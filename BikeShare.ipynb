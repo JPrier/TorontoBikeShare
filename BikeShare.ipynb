{
  "nbformat": 4,
  "nbformat_minor": 0,
  "metadata": {
    "colab": {
      "name": "BikeShare.ipynb",
      "version": "0.3.2",
      "provenance": [],
      "collapsed_sections": [],
      "toc_visible": true,
      "include_colab_link": true
    },
    "kernelspec": {
      "name": "python3",
      "display_name": "Python 3"
    }
  },
  "cells": [
    {
      "cell_type": "markdown",
      "metadata": {
        "id": "view-in-github",
        "colab_type": "text"
      },
      "source": [
        "<a href=\"https://colab.research.google.com/github/JPrier/TorontoBikeShare/blob/master/BikeShare.ipynb\" target=\"_parent\"><img src=\"https://colab.research.google.com/assets/colab-badge.svg\" alt=\"Open In Colab\"/></a>"
      ]
    },
    {
      "cell_type": "markdown",
      "metadata": {
        "id": "_GGr1klLRrth",
        "colab_type": "text"
      },
      "source": [
        "# Notes"
      ]
    },
    {
      "cell_type": "markdown",
      "metadata": {
        "id": "Qp6C2RxrMQdi",
        "colab_type": "text"
      },
      "source": [
        "#### TODO\n",
        "\n",
        "\n",
        "*   Add station ids so that we can map stations later on with realtime data\n",
        "*  Create a new Dataframe that is able to hold all the needed data from both bikes and weather\n",
        "  * should be a easy method to add more data on top of\n",
        "* Run report on new dataframe\n",
        "* Begin feature engineering \n",
        "* Build Benchmark model\n",
        "* Build RNN-LTSM model\n",
        "* Look at realtime data and format training data to be similar\n",
        "\n"
      ]
    },
    {
      "cell_type": "markdown",
      "metadata": {
        "id": "dTRLNjEoS_JW",
        "colab_type": "text"
      },
      "source": [
        "## NN Notes"
      ]
    },
    {
      "cell_type": "markdown",
      "metadata": {
        "id": "RparcGZxTFIu",
        "colab_type": "text"
      },
      "source": [
        "\n",
        "\n",
        "*   Need more features, 4 is not enough\n",
        "*   Use XgBoost to improve result\n",
        "*  Get a baseline performance with a simple NN and try to improve from that \n",
        "\n"
      ]
    },
    {
      "cell_type": "markdown",
      "metadata": {
        "id": "Qa11xV-TS3AO",
        "colab_type": "text"
      },
      "source": [
        "## RNN Notes"
      ]
    },
    {
      "cell_type": "markdown",
      "metadata": {
        "id": "rozFD2oTR5uD",
        "colab_type": "text"
      },
      "source": [
        "\n",
        "\n",
        "*  For the RNN use 24 nodes, one for each hour\n",
        "* Use Bag of Words on the stations since the problem is with frequency of station usage\n",
        "\n"
      ]
    },
    {
      "cell_type": "markdown",
      "metadata": {
        "id": "BRMeSoztj2BO",
        "colab_type": "text"
      },
      "source": [
        "# Google Drive Setup"
      ]
    },
    {
      "cell_type": "code",
      "metadata": {
        "id": "Yekiue7_n2Cw",
        "colab_type": "code",
        "outputId": "607bdc3d-5e9c-4d9f-bca1-f1025a6bd268",
        "colab": {
          "base_uri": "https://localhost:8080/",
          "height": 51
        }
      },
      "source": [
        "!pip install -U -q PyDrive\n",
        "\n",
        "from pydrive.auth import GoogleAuth\n",
        "\n",
        "from pydrive.drive import GoogleDrive\n",
        "\n",
        "from google.colab import auth \n",
        "from oauth2client.client import GoogleCredentials\n",
        "\n",
        "#Authenticate and create the PyDrive client\n",
        "\n",
        "auth.authenticate_user()\n",
        "\n",
        "gauth = GoogleAuth()\n",
        "\n",
        "gauth.credentials = GoogleCredentials.get_application_default()\n",
        "\n",
        "drive = GoogleDrive(gauth)"
      ],
      "execution_count": 1,
      "outputs": [
        {
          "output_type": "stream",
          "text": [
            "\u001b[?25l\r\u001b[K     |▎                               | 10kB 17.9MB/s eta 0:00:01\r\u001b[K     |▋                               | 20kB 3.5MB/s eta 0:00:01\r\u001b[K     |█                               | 30kB 5.0MB/s eta 0:00:01\r\u001b[K     |█▎                              | 40kB 3.2MB/s eta 0:00:01\r\u001b[K     |█▋                              | 51kB 3.9MB/s eta 0:00:01\r\u001b[K     |██                              | 61kB 4.7MB/s eta 0:00:01\r\u001b[K     |██▎                             | 71kB 5.3MB/s eta 0:00:01\r\u001b[K     |██▋                             | 81kB 6.0MB/s eta 0:00:01\r\u001b[K     |███                             | 92kB 6.7MB/s eta 0:00:01\r\u001b[K     |███▎                            | 102kB 5.2MB/s eta 0:00:01\r\u001b[K     |███▋                            | 112kB 5.2MB/s eta 0:00:01\r\u001b[K     |████                            | 122kB 5.2MB/s eta 0:00:01\r\u001b[K     |████▎                           | 133kB 5.2MB/s eta 0:00:01\r\u001b[K     |████▋                           | 143kB 5.2MB/s eta 0:00:01\r\u001b[K     |█████                           | 153kB 5.2MB/s eta 0:00:01\r\u001b[K     |█████▎                          | 163kB 5.2MB/s eta 0:00:01\r\u001b[K     |█████▋                          | 174kB 5.2MB/s eta 0:00:01\r\u001b[K     |██████                          | 184kB 5.2MB/s eta 0:00:01\r\u001b[K     |██████▎                         | 194kB 5.2MB/s eta 0:00:01\r\u001b[K     |██████▋                         | 204kB 5.2MB/s eta 0:00:01\r\u001b[K     |███████                         | 215kB 5.2MB/s eta 0:00:01\r\u001b[K     |███████▎                        | 225kB 5.2MB/s eta 0:00:01\r\u001b[K     |███████▋                        | 235kB 5.2MB/s eta 0:00:01\r\u001b[K     |████████                        | 245kB 5.2MB/s eta 0:00:01\r\u001b[K     |████████▎                       | 256kB 5.2MB/s eta 0:00:01\r\u001b[K     |████████▋                       | 266kB 5.2MB/s eta 0:00:01\r\u001b[K     |█████████                       | 276kB 5.2MB/s eta 0:00:01\r\u001b[K     |█████████▎                      | 286kB 5.2MB/s eta 0:00:01\r\u001b[K     |█████████▋                      | 296kB 5.2MB/s eta 0:00:01\r\u001b[K     |██████████                      | 307kB 5.2MB/s eta 0:00:01\r\u001b[K     |██████████▎                     | 317kB 5.2MB/s eta 0:00:01\r\u001b[K     |██████████▋                     | 327kB 5.2MB/s eta 0:00:01\r\u001b[K     |███████████                     | 337kB 5.2MB/s eta 0:00:01\r\u001b[K     |███████████▎                    | 348kB 5.2MB/s eta 0:00:01\r\u001b[K     |███████████▋                    | 358kB 5.2MB/s eta 0:00:01\r\u001b[K     |████████████                    | 368kB 5.2MB/s eta 0:00:01\r\u001b[K     |████████████▎                   | 378kB 5.2MB/s eta 0:00:01\r\u001b[K     |████████████▋                   | 389kB 5.2MB/s eta 0:00:01\r\u001b[K     |█████████████                   | 399kB 5.2MB/s eta 0:00:01\r\u001b[K     |█████████████▎                  | 409kB 5.2MB/s eta 0:00:01\r\u001b[K     |█████████████▋                  | 419kB 5.2MB/s eta 0:00:01\r\u001b[K     |██████████████                  | 430kB 5.2MB/s eta 0:00:01\r\u001b[K     |██████████████▎                 | 440kB 5.2MB/s eta 0:00:01\r\u001b[K     |██████████████▋                 | 450kB 5.2MB/s eta 0:00:01\r\u001b[K     |███████████████                 | 460kB 5.2MB/s eta 0:00:01\r\u001b[K     |███████████████▎                | 471kB 5.2MB/s eta 0:00:01\r\u001b[K     |███████████████▋                | 481kB 5.2MB/s eta 0:00:01\r\u001b[K     |████████████████                | 491kB 5.2MB/s eta 0:00:01\r\u001b[K     |████████████████▎               | 501kB 5.2MB/s eta 0:00:01\r\u001b[K     |████████████████▋               | 512kB 5.2MB/s eta 0:00:01\r\u001b[K     |█████████████████               | 522kB 5.2MB/s eta 0:00:01\r\u001b[K     |█████████████████▎              | 532kB 5.2MB/s eta 0:00:01\r\u001b[K     |█████████████████▋              | 542kB 5.2MB/s eta 0:00:01\r\u001b[K     |██████████████████              | 552kB 5.2MB/s eta 0:00:01\r\u001b[K     |██████████████████▎             | 563kB 5.2MB/s eta 0:00:01\r\u001b[K     |██████████████████▋             | 573kB 5.2MB/s eta 0:00:01\r\u001b[K     |███████████████████             | 583kB 5.2MB/s eta 0:00:01\r\u001b[K     |███████████████████▎            | 593kB 5.2MB/s eta 0:00:01\r\u001b[K     |███████████████████▋            | 604kB 5.2MB/s eta 0:00:01\r\u001b[K     |████████████████████            | 614kB 5.2MB/s eta 0:00:01\r\u001b[K     |████████████████████▎           | 624kB 5.2MB/s eta 0:00:01\r\u001b[K     |████████████████████▋           | 634kB 5.2MB/s eta 0:00:01\r\u001b[K     |█████████████████████           | 645kB 5.2MB/s eta 0:00:01\r\u001b[K     |█████████████████████▎          | 655kB 5.2MB/s eta 0:00:01\r\u001b[K     |█████████████████████▋          | 665kB 5.2MB/s eta 0:00:01\r\u001b[K     |██████████████████████          | 675kB 5.2MB/s eta 0:00:01\r\u001b[K     |██████████████████████▎         | 686kB 5.2MB/s eta 0:00:01\r\u001b[K     |██████████████████████▋         | 696kB 5.2MB/s eta 0:00:01\r\u001b[K     |███████████████████████         | 706kB 5.2MB/s eta 0:00:01\r\u001b[K     |███████████████████████▎        | 716kB 5.2MB/s eta 0:00:01\r\u001b[K     |███████████████████████▋        | 727kB 5.2MB/s eta 0:00:01\r\u001b[K     |████████████████████████        | 737kB 5.2MB/s eta 0:00:01\r\u001b[K     |████████████████████████▎       | 747kB 5.2MB/s eta 0:00:01\r\u001b[K     |████████████████████████▋       | 757kB 5.2MB/s eta 0:00:01\r\u001b[K     |████████████████████████▉       | 768kB 5.2MB/s eta 0:00:01\r\u001b[K     |█████████████████████████▏      | 778kB 5.2MB/s eta 0:00:01\r\u001b[K     |█████████████████████████▌      | 788kB 5.2MB/s eta 0:00:01\r\u001b[K     |█████████████████████████▉      | 798kB 5.2MB/s eta 0:00:01\r\u001b[K     |██████████████████████████▏     | 808kB 5.2MB/s eta 0:00:01\r\u001b[K     |██████████████████████████▌     | 819kB 5.2MB/s eta 0:00:01\r\u001b[K     |██████████████████████████▉     | 829kB 5.2MB/s eta 0:00:01\r\u001b[K     |███████████████████████████▏    | 839kB 5.2MB/s eta 0:00:01\r\u001b[K     |███████████████████████████▌    | 849kB 5.2MB/s eta 0:00:01\r\u001b[K     |███████████████████████████▉    | 860kB 5.2MB/s eta 0:00:01\r\u001b[K     |████████████████████████████▏   | 870kB 5.2MB/s eta 0:00:01\r\u001b[K     |████████████████████████████▌   | 880kB 5.2MB/s eta 0:00:01\r\u001b[K     |████████████████████████████▉   | 890kB 5.2MB/s eta 0:00:01\r\u001b[K     |█████████████████████████████▏  | 901kB 5.2MB/s eta 0:00:01\r\u001b[K     |█████████████████████████████▌  | 911kB 5.2MB/s eta 0:00:01\r\u001b[K     |█████████████████████████████▉  | 921kB 5.2MB/s eta 0:00:01\r\u001b[K     |██████████████████████████████▏ | 931kB 5.2MB/s eta 0:00:01\r\u001b[K     |██████████████████████████████▌ | 942kB 5.2MB/s eta 0:00:01\r\u001b[K     |██████████████████████████████▉ | 952kB 5.2MB/s eta 0:00:01\r\u001b[K     |███████████████████████████████▏| 962kB 5.2MB/s eta 0:00:01\r\u001b[K     |███████████████████████████████▌| 972kB 5.2MB/s eta 0:00:01\r\u001b[K     |███████████████████████████████▉| 983kB 5.2MB/s eta 0:00:01\r\u001b[K     |████████████████████████████████| 993kB 5.2MB/s \n",
            "\u001b[?25h  Building wheel for PyDrive (setup.py) ... \u001b[?25l\u001b[?25hdone\n"
          ],
          "name": "stdout"
        }
      ]
    },
    {
      "cell_type": "code",
      "metadata": {
        "id": "A7RvL1_PoBkG",
        "colab_type": "code",
        "outputId": "afe1301c-b9f4-472f-f594-3c53f3feaad1",
        "colab": {
          "base_uri": "https://localhost:8080/",
          "height": 102
        }
      },
      "source": [
        "folders = [\"1FywO6-NIKvfXZ3LJ08fdU_S4F6QdBOOr\",\n",
        "           \"17524iO2kiuU4_MBalRoBbYe8kpA6oVtn\"]\n",
        "\n",
        "for folderID in folders:\n",
        "  file_list = drive.ListFile({'q': \"'{}' in parents and trashed=false\".format(\n",
        "      folderID)}).GetList()\n",
        "  i = 0      \n",
        "  for file1 in sorted(file_list, key = lambda x: x['title']):\n",
        "      if file1['title'].endswith(\".csv\"):\n",
        "        i+=1\n",
        "        file = drive.CreateFile({'id':file1['id']})\n",
        "        print(\"Downloading \" + str(file1['title']) + \" \" + str(i) + \"/\" + str(len(file_list)) + \" in folder \" + folderID)\n",
        "        file.GetContentFile(file1['title'])\n"
      ],
      "execution_count": 2,
      "outputs": [
        {
          "output_type": "stream",
          "text": [
            "Downloading Bikeshare Ridership (2017 Q1).csv 1/6 in folder 1FywO6-NIKvfXZ3LJ08fdU_S4F6QdBOOr\n",
            "Downloading Bikeshare Ridership (2017 Q2).csv 2/6 in folder 1FywO6-NIKvfXZ3LJ08fdU_S4F6QdBOOr\n",
            "Downloading Bikeshare Ridership (2017 Q3).csv 3/6 in folder 1FywO6-NIKvfXZ3LJ08fdU_S4F6QdBOOr\n",
            "Downloading Bikeshare Ridership (2017 Q4).csv 4/6 in folder 1FywO6-NIKvfXZ3LJ08fdU_S4F6QdBOOr\n",
            "Downloading weatherstats_toronto_hourly.csv 1/1 in folder 17524iO2kiuU4_MBalRoBbYe8kpA6oVtn\n"
          ],
          "name": "stdout"
        }
      ]
    },
    {
      "cell_type": "markdown",
      "metadata": {
        "id": "bPu3qNeYsvz1",
        "colab_type": "text"
      },
      "source": [
        "# Setup"
      ]
    },
    {
      "cell_type": "code",
      "metadata": {
        "id": "vTg1x2-jxZQv",
        "colab_type": "code",
        "colab": {}
      },
      "source": [
        "import pandas as pd\n",
        "import pandas_profiling\n",
        "import matplotlib.pyplot as plt\n",
        "import numpy as np\n",
        "\n",
        "plt.style.use('ggplot')"
      ],
      "execution_count": 0,
      "outputs": []
    },
    {
      "cell_type": "markdown",
      "metadata": {
        "id": "ng2v3Wjkd744",
        "colab_type": "text"
      },
      "source": [
        "# Variable Identification"
      ]
    },
    {
      "cell_type": "markdown",
      "metadata": {
        "id": "QRSxtkaSbQZJ",
        "colab_type": "text"
      },
      "source": [
        "### Predictor Variables:\n",
        "* trip_start_time\n",
        "* from_station_name\n",
        "* user_type\n",
        "*  date_time_local / unixtime\n",
        "* pressure_station\n",
        "* pressure_sea\n",
        "* wind_dir_10s\n",
        "* wind_speed\n",
        "* relative_humidity\n",
        "* dew_point\n",
        "* temperature\n",
        "* windchill\n",
        "* visibility\n",
        "* health_index\n",
        "\n",
        "\n",
        "\n",
        "### Target Variable:\n",
        "  - bikes_used -- Vector for number of bikes that have left (-) or arrived (+) at each station\n",
        "\n",
        "<br />\n",
        "\n",
        "### Data_Types:\n",
        "#### Bike Share\n",
        "| Numerical             \t| Character         \t| DateTime        \t|\n",
        "|-----------------------\t|-------------------\t|-----------------\t|\n",
        "| trip_id               \t| from_station_name \t| trip_start_time \t|\n",
        "| trip_duration_seconds \t| to_station_name   \t| trip_stop_time  \t|\n",
        "| bikes_used            \t| user_type         \t|                 \t|\n",
        "\n",
        "#### Weather\n",
        "| Numerical         \t| Character \t| DateTime        \t|\n",
        "|-------------------\t|-----------\t|-----------------\t|\n",
        "| unixtime          \t| wind_dir  \t| date_time_local \t|\n",
        "| pressure_station  \t|           \t|                 \t|\n",
        "| pressure_sea      \t|           \t|                 \t|\n",
        "| wind_dir_10s      \t|           \t|                 \t|\n",
        "| wind_speed        \t|           \t|                 \t|\n",
        "| relative_humidity \t|           \t|                 \t|\n",
        "| dew_point         \t|           \t|                 \t|\n",
        "| temperature       \t|           \t|                 \t|\n",
        "| windchill         \t|           \t|                 \t|\n",
        "| visibility        \t|           \t|                 \t|\n",
        "| health_index      \t|           \t|                 \t|\n",
        "\n",
        "<br /><br />\n",
        "\n",
        "### Variable Category\n",
        "#### Bike Share\n",
        "\n",
        "|    Categorical    | Continuous            |\n",
        "|:-----------------:|-----------------------|\n",
        "| trip_id           | trip_start_time       |\n",
        "| from_station_name | trip_stop_time        |\n",
        "| to_station_name   | trip_duration_seconds |\n",
        "| user_type         | bikes_used            |\n",
        "\n",
        "#### Weather\n",
        "\n",
        "| Categorical \t| Continuous        \t|\n",
        "|-------------\t|-------------------\t|\n",
        "| wind_dir    \t| date_time_local   \t|\n",
        "|             \t| unixtime          \t|\n",
        "|             \t| pressure_station  \t|\n",
        "|             \t| pressure_sea      \t|\n",
        "|             \t| wind_dir_10s      \t|\n",
        "|             \t| wind_speed        \t|\n",
        "|             \t| relative_humidity \t|\n",
        "|             \t| dew_point         \t|\n",
        "|             \t| temperature       \t|\n",
        "|             \t| windchill         \t|\n",
        "|             \t| visibility        \t|\n",
        "|             \t| health_index      \t|\n"
      ]
    },
    {
      "cell_type": "markdown",
      "metadata": {
        "id": "Jf7ak-POx6u5",
        "colab_type": "text"
      },
      "source": [
        "# Helper Functions"
      ]
    },
    {
      "cell_type": "code",
      "metadata": {
        "id": "h9dca3e9x24O",
        "colab_type": "code",
        "colab": {}
      },
      "source": [
        "'''\n",
        "Issues with the BikeShare Dataset:\n",
        "  - Q1 and Q2 are different from Q3 and Q4 in these ways:\n",
        "      - station ids are non existent in only Q3 and Q4\n",
        "      - date format switches from d-m-y to m-d-y for Q3 to a different one for Q4\n",
        "      - Q4 uses a datetime var? excel shows a different format than what is actually there\n",
        "'''\n",
        "bs_files = [\"Bikeshare Ridership (2017 Q1).csv\", \n",
        "      \"Bikeshare Ridership (2017 Q2).csv\", \n",
        "      \"Bikeshare Ridership (2017 Q3).csv\",\n",
        "      \"Bikeshare Ridership (2017 Q4).csv\"]\n",
        "\n",
        "QX = {0:bs_files[0], 1:bs_files[:2], 2:bs_files[:3], 3:bs_files}\n",
        "\n",
        "def read_bikeshare_data(quarters):\n",
        "  files = QX[quarters]\n",
        "  df = pd.read_csv(files[0]).dropna()\n",
        "  \n",
        "  ##############################################################################\n",
        "  # This large section is a simple (but long) way to match the Datetime formats\n",
        "  \n",
        "  if files[0] == bs_files[0] or files[0] == bs_files[1]:\n",
        "    df['trip_start_time'] = pd.to_datetime(df['trip_start_time'], \n",
        "                                                    format='%d/%m/%Y %H:%M')\n",
        "    df['trip_stop_time'] = pd.to_datetime(df['trip_stop_time'], \n",
        "                                                   format='%d/%m/%Y %H:%M')\n",
        "  elif files[0] == bs_files[3]:\n",
        "    df['trip_start_time'] = pd.to_datetime(df['trip_start_time'], \n",
        "                                                    format='%m/%d/%y %H:%M:%S')\n",
        "    df['trip_stop_time'] = pd.to_datetime(df['trip_stop_time'], \n",
        "                                                   format='%m/%d/%y %H:%M:%S')\n",
        "  else:\n",
        "    df['trip_start_time'] = pd.to_datetime(df['trip_start_time'], \n",
        "                                                    format='%m/%d/%Y %H:%M')\n",
        "    df['trip_stop_time'] = pd.to_datetime(df['trip_stop_time'], \n",
        "                                                   format='%m/%d/%Y %H:%M')\n",
        "  for i in range(len(files)-1):\n",
        "    temp_df = pd.read_csv(files[i+1]).dropna()\n",
        "    if files[i+1] == bs_files[0] or files[i+1] == bs_files[1]:\n",
        "      temp_df['trip_start_time'] = pd.to_datetime(temp_df['trip_start_time'], \n",
        "                                                  format='%d/%m/%Y %H:%M')\n",
        "      temp_df['trip_stop_time'] = pd.to_datetime(temp_df['trip_stop_time'], \n",
        "                                                 format='%d/%m/%Y %H:%M')\n",
        "    elif files[i+1] == bs_files[3]:\n",
        "      temp_df['trip_start_time'] = pd.to_datetime(temp_df['trip_start_time'], \n",
        "                                                      format='%m/%d/%y %H:%M:%S')\n",
        "      temp_df['trip_stop_time'] = pd.to_datetime(temp_df['trip_stop_time'], \n",
        "                                                     format='%m/%d/%y %H:%M:%S')\n",
        "    else:\n",
        "      temp_df['trip_start_time'] = pd.to_datetime(temp_df['trip_start_time'], \n",
        "                                                  format='%m/%d/%Y %H:%M')\n",
        "      temp_df['trip_stop_time'] = pd.to_datetime(temp_df['trip_stop_time'], \n",
        "                                                 format='%m/%d/%Y %H:%M')\n",
        "    df = df.append(temp_df, sort=False)\n",
        "  \n",
        "  ##############################################################################\n",
        "  \n",
        "  # Remove station ids as Q3 and Q4 do not have them (still have station names)\n",
        "  #if 'from_station_id' in df.columns:\n",
        "  #    df.drop(['from_station_id', 'to_station_id'], axis=1, inplace=True)\n",
        "  \n",
        "  df[\"from_station_name\"] = df[\"from_station_name\"].str.replace(\".\", \"\")\n",
        "  df[\"from_station_name\"] = df[\"from_station_name\"].str.replace(\"'\", \"\")\n",
        "  df[\"to_station_name\"] = df[\"to_station_name\"].str.replace(\".\", \"\")\n",
        "  df[\"to_station_name\"] = df[\"to_station_name\"].str.replace(\"'\", \"\")\n",
        "  # Add Bikes used Count for each day\n",
        "  #TODO: Need to figure out how to count how many bikes have been used at any given trip\n",
        "  \n",
        "  \n",
        "  \n",
        "  return df\n",
        "\n",
        "quarters_dates = {0:\"\",\n",
        "                  1:\"\",\n",
        "                  2:\"\",\n",
        "                  3:\"\"}\n",
        "\n",
        "def read_weather_data(quarters):\n",
        "  # TODO: cut off data reading from a certian point according to quarters\n",
        "  \n",
        "  df = pd.read_csv('weatherstats_toronto_hourly.csv')\n",
        "  df = df[df['unixtime'].between(1485918000, 1514779200, inclusive=True)]\n",
        "  return df\n",
        "\n",
        "def read_data(quarters):\n",
        "  df_bikes = read_bikeshare_data(quarters)\n",
        "  df_weather = read_weather_data(quarters)\n",
        "  return df_bikes, df_weather"
      ],
      "execution_count": 0,
      "outputs": []
    },
    {
      "cell_type": "markdown",
      "metadata": {
        "id": "ZeMu935K0FbR",
        "colab_type": "text"
      },
      "source": [
        "# Run EDA"
      ]
    },
    {
      "cell_type": "code",
      "metadata": {
        "id": "Iac1Ozf70J7G",
        "colab_type": "code",
        "outputId": "7505de99-0c57-4369-c847-0d8071be9991",
        "colab": {
          "base_uri": "https://localhost:8080/",
          "height": 51
        }
      },
      "source": [
        "'''\n",
        "-----TODO-----\n",
        "- Read in and manipulate/clean data\n",
        "- visualize data \n",
        "- perform more EDA\n",
        "- predict rider usage on a day of the year?? (would need to add in another dataset -- possibly weather, holidays and events)\n",
        "'''\n",
        "# quarters to read in (just for speed of debugging)\n",
        "quarters = 3\n",
        "df_bikes, df_weather = read_data(quarters)"
      ],
      "execution_count": 19,
      "outputs": [
        {
          "output_type": "stream",
          "text": [
            "/usr/local/lib/python3.6/dist-packages/IPython/core/interactiveshell.py:2882: DtypeWarning: Columns (4) have mixed types. Specify dtype option on import or set low_memory=False.\n",
            "  exec(code_obj, self.user_global_ns, self.user_ns)\n"
          ],
          "name": "stderr"
        }
      ]
    },
    {
      "cell_type": "code",
      "metadata": {
        "id": "Rh73Wmxm3hoP",
        "colab_type": "code",
        "colab": {
          "base_uri": "https://localhost:8080/",
          "height": 139
        },
        "outputId": "651d044b-a461-4ab7-b9be-0b302c4c2fff"
      },
      "source": [
        "report = pandas_profiling.ProfileReport(df_bikes)\n",
        "report.to_file(outputfile='bikesReport.html')"
      ],
      "execution_count": 20,
      "outputs": [
        {
          "output_type": "stream",
          "text": [
            "/usr/local/lib/python3.6/dist-packages/pandas/plotting/_converter.py:129: FutureWarning: Using an implicitly registered datetime converter for a matplotlib plotting method. The converter was registered by pandas on import. Future versions of pandas will require you to explicitly register matplotlib converters.\n",
            "\n",
            "To register the converters:\n",
            "\t>>> from pandas.plotting import register_matplotlib_converters\n",
            "\t>>> register_matplotlib_converters()\n",
            "  warnings.warn(msg, FutureWarning)\n"
          ],
          "name": "stderr"
        }
      ]
    },
    {
      "cell_type": "code",
      "metadata": {
        "id": "R1deUIcq5sqU",
        "colab_type": "code",
        "colab": {}
      },
      "source": [
        "report = pandas_profiling.ProfileReport(df_weather)\n",
        "report.to_file(outputfile='weatherReport.html')"
      ],
      "execution_count": 0,
      "outputs": []
    },
    {
      "cell_type": "code",
      "metadata": {
        "id": "c0Bx6s49uWfg",
        "colab_type": "code",
        "outputId": "0e80f5ea-0d91-4608-db1e-9eaa054edce5",
        "colab": {
          "base_uri": "https://localhost:8080/",
          "height": 306
        }
      },
      "source": [
        "print(df.shape)\n",
        "print(df.iloc[1])\n",
        "print(df.iloc[100000])"
      ],
      "execution_count": 0,
      "outputs": [
        {
          "output_type": "stream",
          "text": [
            "(1492368, 7)\n",
            "trip_id                                    712383\n",
            "trip_start_time               2017-01-01 00:00:00\n",
            "trip_stop_time                2017-01-01 00:05:00\n",
            "trip_duration_seconds                         279\n",
            "from_station_name        Kendal Ave / Bernard Ave\n",
            "to_station_name           Bathurst Subway Station\n",
            "user_type                                  Member\n",
            "Name: 1, dtype: object\n",
            "trip_id                                        831014\n",
            "trip_start_time                   2017-03-11 14:04:00\n",
            "trip_stop_time                    2017-03-11 14:10:00\n",
            "trip_duration_seconds                             385\n",
            "from_station_name        Bathurst St / Fort York Blvd\n",
            "to_station_name              Queen St W / Portland St\n",
            "user_type                                      Member\n",
            "Name: 100000, dtype: object\n"
          ],
          "name": "stdout"
        }
      ]
    }
  ]
}